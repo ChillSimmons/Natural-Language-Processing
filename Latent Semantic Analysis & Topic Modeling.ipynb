{
 "cells": [
  {
   "cell_type": "markdown",
   "metadata": {},
   "source": [
    "# Latent Semantic Analysis (LSA)\n",
    "* generally used for Dimensionality Reduction, or Noise Reducing\n",
    "* uses Bag of Words (BoW) model - to produce a Term-Document matrix\n",
    "* learn latent topics using Singular Value Decomposition (SVD) - decomposition of T-D matrix\n",
    "    * SVD - matrix factorization method, representing a matrix as the product of 2 matrices\n",
    "    \n",
    "## Discovering Hidden Topics in Documents\n",
    "* Topic Modeling - a technique for text mining, by identifying co-occurring keywords\n",
    "* Unsupervised text analytics algorithm\n",
    "    * different from Text Classification, a Supervised ML problem with pre-defined classes\n",
    "    * Topic Modeling involves Discovering these Groups of co-occurring words\n",
    "        * Topic Modeling can be used to help solve a Text Classification problem\n",
    "* Topic Coherence Measure - method for determining k (number of topics)\n",
    "\n",
    "### Topic Models are used for many purposes\n",
    "* clutering documents\n",
    "* organizing content for information retrieval/recommendations\n",
    "* recruiters use them to extract job descriptions and map them to candidates\n",
    "\n",
    "#### if necessary install gensim & nltk"
   ]
  },
  {
   "cell_type": "code",
   "execution_count": 1,
   "metadata": {
    "scrolled": true
   },
   "outputs": [
    {
     "name": "stdout",
     "output_type": "stream",
     "text": [
      "Requirement already satisfied: gensim in /anaconda3/lib/python3.6/site-packages (3.7.3)\n",
      "Requirement already satisfied: numpy>=1.11.3 in /anaconda3/lib/python3.6/site-packages (from gensim) (1.16.2)\n",
      "Requirement already satisfied: scipy>=0.18.1 in /anaconda3/lib/python3.6/site-packages (from gensim) (1.1.0)\n",
      "Requirement already satisfied: six>=1.5.0 in /anaconda3/lib/python3.6/site-packages (from gensim) (1.11.0)\n",
      "Requirement already satisfied: smart-open>=1.7.0 in /anaconda3/lib/python3.6/site-packages (from gensim) (1.8.4)\n",
      "Requirement already satisfied: boto3 in /anaconda3/lib/python3.6/site-packages (from smart-open>=1.7.0->gensim) (1.9.161)\n",
      "Requirement already satisfied: requests in /anaconda3/lib/python3.6/site-packages (from smart-open>=1.7.0->gensim) (2.18.4)\n",
      "Requirement already satisfied: boto>=2.32 in /anaconda3/lib/python3.6/site-packages (from smart-open>=1.7.0->gensim) (2.48.0)\n",
      "Requirement already satisfied: jmespath<1.0.0,>=0.7.1 in /anaconda3/lib/python3.6/site-packages (from boto3->smart-open>=1.7.0->gensim) (0.9.4)\n",
      "Requirement already satisfied: s3transfer<0.3.0,>=0.2.0 in /anaconda3/lib/python3.6/site-packages (from boto3->smart-open>=1.7.0->gensim) (0.2.1)\n",
      "Requirement already satisfied: botocore<1.13.0,>=1.12.161 in /anaconda3/lib/python3.6/site-packages (from boto3->smart-open>=1.7.0->gensim) (1.12.161)\n",
      "Requirement already satisfied: chardet<3.1.0,>=3.0.2 in /anaconda3/lib/python3.6/site-packages (from requests->smart-open>=1.7.0->gensim) (3.0.4)\n",
      "Requirement already satisfied: idna<2.7,>=2.5 in /anaconda3/lib/python3.6/site-packages (from requests->smart-open>=1.7.0->gensim) (2.6)\n",
      "Requirement already satisfied: urllib3<1.23,>=1.21.1 in /anaconda3/lib/python3.6/site-packages (from requests->smart-open>=1.7.0->gensim) (1.22)\n",
      "Requirement already satisfied: certifi>=2017.4.17 in /anaconda3/lib/python3.6/site-packages (from requests->smart-open>=1.7.0->gensim) (2018.4.16)\n",
      "Requirement already satisfied: docutils>=0.10 in /anaconda3/lib/python3.6/site-packages (from botocore<1.13.0,>=1.12.161->boto3->smart-open>=1.7.0->gensim) (0.14)\n",
      "Requirement already satisfied: python-dateutil<3.0.0,>=2.1; python_version >= \"2.7\" in /anaconda3/lib/python3.6/site-packages (from botocore<1.13.0,>=1.12.161->boto3->smart-open>=1.7.0->gensim) (2.7.3)\n",
      "\u001b[33mYou are using pip version 10.0.1, however version 19.1.1 is available.\n",
      "You should consider upgrading via the 'pip install --upgrade pip' command.\u001b[0m\n"
     ]
    }
   ],
   "source": [
    "!pip install gensim"
   ]
  },
  {
   "cell_type": "code",
   "execution_count": 2,
   "metadata": {},
   "outputs": [],
   "source": [
    "import os.path\n",
    "from gensim import corpora\n",
    "from gensim.models import LsiModel\n",
    "from nltk.tokenize import RegexpTokenizer\n",
    "from nltk.corpus import stopwords\n",
    "from nltk.stem.porter import PorterStemmer\n",
    "from gensim.models.coherencemodel import CoherenceModel\n",
    "import matplotlib.pyplot as plt"
   ]
  },
  {
   "cell_type": "markdown",
   "metadata": {},
   "source": [
    "## Load Data\n",
    "* can be located here: https://s3.amazonaws.com/assets.datacamp.com/blog_assets/Latent+Semantic+Analysis+in+Python/articles+4.txt"
   ]
  },
  {
   "cell_type": "markdown",
   "metadata": {},
   "source": [
    "### Create Functions - for Loading Data, Preprocessing Data, Preparing Corpus, Creating Gensim LSA Model, Computing Coherence Values, & for Plotting these Values\n",
    "* Loading Data\n",
    "* output should be list of paragraphs/documents and title (initial 100 words)"
   ]
  },
  {
   "cell_type": "code",
   "execution_count": 3,
   "metadata": {},
   "outputs": [],
   "source": [
    "def load_data(path,file_name):\n",
    "    documents_list = []\n",
    "    titles=[]\n",
    "    \n",
    "    with open( os.path.join(path, file_name) ,\"r\") as fin:\n",
    "        for line in fin.readlines():\n",
    "            text = line.strip()\n",
    "            documents_list.append(text)\n",
    "            \n",
    "    print(\"Total Number of Documents:\",len(documents_list))\n",
    "    titles.append( text[0:min(len(text),100)] )\n",
    "    \n",
    "    return documents_list,titles"
   ]
  },
  {
   "cell_type": "markdown",
   "metadata": {},
   "source": [
    "* Preprocess Data\n",
    "    * Tokenize articles\n",
    "    * Remove stopwords\n",
    "    * Stemming of article"
   ]
  },
  {
   "cell_type": "code",
   "execution_count": 4,
   "metadata": {},
   "outputs": [],
   "source": [
    "def preprocess_data(doc_set):\n",
    "    \n",
    "    # initialize regex tokenizer\n",
    "    # create English stopwords list\n",
    "    # create p_stemmer - PorterStemmer class\n",
    "    # create empty list for tokenized documents\n",
    "    \n",
    "    tokenizer = RegexpTokenizer(r'\\w+')\n",
    "    en_stop = set(stopwords.words('english'))    \n",
    "    p_stemmer = PorterStemmer()\n",
    "    texts = []\n",
    "    \n",
    "    # loop through the document list\n",
    "    \n",
    "    for i in doc_set:\n",
    "        # clean and tokenize document string\n",
    "        # remove stopwords from tokens\n",
    "        # stem tokens\n",
    "        # add tokens to list\n",
    "        \n",
    "        raw = i.lower()\n",
    "        tokens = tokenizer.tokenize(raw) \n",
    "        stopped_tokens = [i for i in tokens if not i in en_stop]\n",
    "        stemmed_tokens = [p_stemmer.stem(i) for i in stopped_tokens]\n",
    "        texts.append(stemmed_tokens)\n",
    "    \n",
    "    return texts"
   ]
  },
  {
   "cell_type": "markdown",
   "metadata": {},
   "source": [
    "* Prepare Corpus\n",
    "    * Create Term-Document matrix\n",
    "    * Create Dictionary of Terms"
   ]
  },
  {
   "cell_type": "code",
   "execution_count": 5,
   "metadata": {},
   "outputs": [],
   "source": [
    "def prepare_corpus(doc_clean):\n",
    "\n",
    "    # Create term dictionary of our courpus, every unique term assigned an index\n",
    "    # use this dictionary - to convert list of documents (corpus) - to Term-Document matrix\n",
    "    \n",
    "    dictionary = corpora.Dictionary(doc_clean)\n",
    "    doc_term_matrix = [dictionary.doc2bow(doc) for doc in doc_clean]\n",
    "    \n",
    "    return dictionary, doc_term_matrix"
   ]
  },
  {
   "cell_type": "markdown",
   "metadata": {},
   "source": [
    "* Create Gensim LSA Model\n",
    "    * following corpus creation - use LSA to generate model"
   ]
  },
  {
   "cell_type": "code",
   "execution_count": 6,
   "metadata": {},
   "outputs": [],
   "source": [
    "def create_gensim_lsa_model(doc_clean,number_of_topics,words):\n",
    "    dictionary,doc_term_matrix=prepare_corpus(doc_clean)\n",
    "    \n",
    "    # generate & train LSA model\n",
    "    \n",
    "    lsamodel = LsiModel(doc_term_matrix, num_topics=number_of_topics, id2word = dictionary)\n",
    "    \n",
    "    print(lsamodel.print_topics(num_topics=number_of_topics, num_words=words))\n",
    "    \n",
    "    return lsamodel"
   ]
  },
  {
   "cell_type": "markdown",
   "metadata": {},
   "source": [
    "#### Optimize results by identifying the best number of Topics (k)\n",
    "* Compute Coherence Values\n",
    "* this function will need several inputs:\n",
    "    * gensim dictionary\n",
    "    * doc_term_matrix (gensim corpus)\n",
    "    * doc_clean (text)\n",
    "    * stop (max number of Topics)\n",
    "    * start\n",
    "    * step"
   ]
  },
  {
   "cell_type": "code",
   "execution_count": 7,
   "metadata": {},
   "outputs": [],
   "source": [
    "def compute_coherence_values(dictionary, doc_term_matrix, doc_clean, stop, start=2, step=3):\n",
    "    coherence_values = []\n",
    "    model_list = []\n",
    "    \n",
    "    for num_topics in range(start, stop, step):\n",
    "        \n",
    "        # generate & train LSA model\n",
    "        \n",
    "        model = LsiModel(doc_term_matrix, num_topics=number_of_topics, id2word = dictionary)  \n",
    "        model_list.append(model)\n",
    "        \n",
    "        coherencemodel = CoherenceModel(model=model, texts=doc_clean,\n",
    "                                        dictionary=dictionary, coherence='c_v')\n",
    "        coherence_values.append(coherencemodel.get_coherence())\n",
    "        \n",
    "    return model_list, coherence_values"
   ]
  },
  {
   "cell_type": "markdown",
   "metadata": {},
   "source": [
    "* Finally, create a Function to Plotting Coherence Score values"
   ]
  },
  {
   "cell_type": "code",
   "execution_count": 8,
   "metadata": {},
   "outputs": [],
   "source": [
    "def plot_graph(doc_clean,start, stop, step):\n",
    "    dictionary,doc_term_matrix=prepare_corpus(doc_clean)\n",
    "    model_list, coherence_values = compute_coherence_values(dictionary, doc_term_matrix, \n",
    "                                                            doc_clean,\n",
    "                                                            stop, start, step)\n",
    "    \n",
    "    x = range(start, stop, step)\n",
    "    \n",
    "    plt.plot(x, coherence_values)\n",
    "    plt.xlabel(\"Number of Topics\")\n",
    "    plt.ylabel(\"Coherence score\")\n",
    "    plt.legend((\"coherence_values\"), loc='best')\n",
    "    plt.show()"
   ]
  },
  {
   "cell_type": "markdown",
   "metadata": {},
   "source": [
    "# Apply Functions\n",
    "### Load and Assign Data"
   ]
  },
  {
   "cell_type": "code",
   "execution_count": 13,
   "metadata": {},
   "outputs": [
    {
     "name": "stdout",
     "output_type": "stream",
     "text": [
      "Total Number of Documents: 4551\n"
     ]
    }
   ],
   "source": [
    "document_list, titles = load_data(\"../../Downloads/\", \"articles+4.txt\")"
   ]
  },
  {
   "cell_type": "markdown",
   "metadata": {},
   "source": [
    "### Preprocess and Assign Data"
   ]
  },
  {
   "cell_type": "code",
   "execution_count": 14,
   "metadata": {},
   "outputs": [],
   "source": [
    "clean_text = preprocess_data(document_list)"
   ]
  },
  {
   "cell_type": "markdown",
   "metadata": {},
   "source": [
    "### Run Model"
   ]
  },
  {
   "cell_type": "code",
   "execution_count": 17,
   "metadata": {},
   "outputs": [
    {
     "name": "stdout",
     "output_type": "stream",
     "text": [
      "[(0, '0.361*\"trump\" + 0.272*\"say\" + 0.233*\"said\" + 0.166*\"would\" + 0.160*\"clinton\" + 0.140*\"peopl\" + 0.136*\"one\" + 0.126*\"campaign\" + 0.123*\"year\" + 0.110*\"time\"'), (1, '0.389*\"citi\" + 0.370*\"v\" + 0.356*\"h\" + 0.355*\"2016\" + 0.354*\"2017\" + 0.164*\"unit\" + 0.159*\"west\" + 0.157*\"manchest\" + 0.116*\"apr\" + 0.112*\"dec\"'), (2, '-0.612*\"trump\" + -0.264*\"clinton\" + 0.261*\"eu\" + 0.148*\"say\" + 0.137*\"would\" + -0.135*\"donald\" + 0.134*\"leav\" + 0.134*\"uk\" + -0.119*\"republican\" + 0.110*\"cameron\"'), (3, '-0.400*\"min\" + 0.261*\"eu\" + -0.183*\"goal\" + -0.152*\"ball\" + -0.132*\"play\" + 0.128*\"said\" + 0.128*\"say\" + -0.126*\"leagu\" + 0.122*\"leav\" + -0.122*\"game\"'), (4, '-0.404*\"bank\" + 0.305*\"eu\" + 0.290*\"min\" + -0.189*\"year\" + 0.164*\"leav\" + 0.153*\"cameron\" + -0.143*\"market\" + -0.140*\"rate\" + 0.139*\"vote\" + 0.133*\"say\"'), (5, '-0.310*\"bank\" + 0.307*\"say\" + 0.221*\"peopl\" + -0.203*\"trump\" + -0.166*\"1\" + -0.164*\"min\" + -0.163*\"0\" + -0.152*\"eu\" + -0.152*\"market\" + 0.138*\"like\"'), (6, '-0.570*\"say\" + -0.237*\"min\" + 0.170*\"vote\" + -0.158*\"govern\" + 0.154*\"poll\" + -0.122*\"tax\" + -0.115*\"bank\" + -0.115*\"statement\" + -0.112*\"budget\" + 0.108*\"one\"')]\n"
     ]
    }
   ],
   "source": [
    "number_of_topics = 7\n",
    "words = 10\n",
    "\n",
    "model = create_gensim_lsa_model(clean_text, number_of_topics, words)"
   ]
  },
  {
   "cell_type": "markdown",
   "metadata": {},
   "source": [
    "#### LSA has provided 7 Topics, each shown with 10 words\n",
    "* Topic 1 - \"trump, say, said, would, clinton, peopl, one, campaign, year, time\"\n",
    "* Topic 2 - \"citi, v, h, 2016, 2017, unit, west, manchest, apr, dec\"\n",
    "* Topic 3 - \"trump, clinton, eu, say, would,  donald, leav, uk, republican, cameron\"\n",
    "* Topic 4 - \"min, eu, goal, ball, play, said, say, leagu, leav, game\"\n",
    "* Topic 5 - \"bank, eu, min, year, leav, cameron, market, rate, vote, say\"\n",
    "* Topic 6 - \"bank, say, peopl, trump, 1, min, 0, eu, market, like\"\n",
    "* Topic 7 - \"say, min, vote, govern, poll, tax, statement, bank, budget, one\"\n",
    "\n",
    "#### LSA is fast, but cannot capture multiple meanings of words"
   ]
  },
  {
   "cell_type": "markdown",
   "metadata": {},
   "source": [
    "### Check how many Topics correspond to the highest Coherence"
   ]
  },
  {
   "cell_type": "code",
   "execution_count": 18,
   "metadata": {},
   "outputs": [
    {
     "data": {
      "image/png": "[encoded data removed]",
      "text/plain": [
       "<Figure size 432x288 with 1 Axes>"
      ]
     },
     "metadata": {},
     "output_type": "display_data"
    }
   ],
   "source": [
    "start, stop, step = 2, 12, 1\n",
    "\n",
    "plot_graph(clean_text, start, stop, step)"
   ]
  },
  {
   "cell_type": "markdown",
   "metadata": {},
   "source": [
    "### This plot would suggest that the Best Number of Topics to use is 8"
   ]
  }
 ],
 "metadata": {
  "kernelspec": {
   "display_name": "Python 3",
   "language": "python",
   "name": "python3"
  },
  "language_info": {
   "codemirror_mode": {
    "name": "ipython",
    "version": 3
   },
   "file_extension": ".py",
   "mimetype": "text/x-python",
   "name": "python",
   "nbconvert_exporter": "python",
   "pygments_lexer": "ipython3",
   "version": "3.6.5"
  }
 },
 "nbformat": 4,
 "nbformat_minor": 2
}
